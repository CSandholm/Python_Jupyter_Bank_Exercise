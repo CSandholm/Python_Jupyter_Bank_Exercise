{
 "cells": [
  {
   "cell_type": "code",
   "execution_count": 1,
   "id": "16b156e2",
   "metadata": {},
   "outputs": [],
   "source": [
    "import bank_mod"
   ]
  },
  {
   "cell_type": "markdown",
   "id": "a7649c84",
   "metadata": {},
   "source": [
    "<h1> Testkod för bankapplikation </h1>"
   ]
  },
  {
   "cell_type": "code",
   "execution_count": 2,
   "id": "8c4ff971",
   "metadata": {},
   "outputs": [],
   "source": [
    "bank = bank_mod.Bank()"
   ]
  },
  {
   "cell_type": "code",
   "execution_count": 3,
   "id": "9107403e",
   "metadata": {},
   "outputs": [],
   "source": [
    "bank.load_input()"
   ]
  },
  {
   "cell_type": "code",
   "execution_count": 4,
   "id": "4984c8b0",
   "metadata": {
    "scrolled": false
   },
   "outputs": [
    {
     "name": "stdout",
     "output_type": "stream",
     "text": [
      "Username: niklas Password: niklasPassword\n",
      "Account: konto1 Balance: 321\n",
      "Account: konto2 Balance: 500\n",
      "Account: konto3 Balance: 261\n",
      "Username: james Password: jamesPassword\n",
      "Account: jamesKonto Balance: -20\n",
      "Username: paul Password: paulPassword\n",
      "Account: paulKonto Balance: 29\n",
      "Account: paulkonto2 Balance: 1256\n",
      "Account: paulkonto3 Balance: 896\n"
     ]
    }
   ],
   "source": [
    "#get customers list and accounts through get_customers()\n",
    "\n",
    "customers_list = bank.get_customers()\n",
    "\n",
    "for customer in customers_list:\n",
    "    print(customer)\n",
    "    for account in customer.accounts:\n",
    "        print(account)"
   ]
  },
  {
   "cell_type": "code",
   "execution_count": 5,
   "id": "ec71724c",
   "metadata": {},
   "outputs": [
    {
     "data": {
      "text/plain": [
       "True"
      ]
     },
     "execution_count": 5,
     "metadata": {},
     "output_type": "execute_result"
    }
   ],
   "source": [
    "#add customer\n",
    "\n",
    "bank.add_customer(\"jake\", \"jakePassword\")"
   ]
  },
  {
   "cell_type": "code",
   "execution_count": 6,
   "id": "77367bb1",
   "metadata": {},
   "outputs": [
    {
     "name": "stdout",
     "output_type": "stream",
     "text": [
      "Username: jake Password: jakePassword\n"
     ]
    }
   ],
   "source": [
    "#get customer by name\n",
    "\n",
    "print(bank.get_customer(\"jake\"))"
   ]
  },
  {
   "cell_type": "code",
   "execution_count": 7,
   "id": "030fd23b",
   "metadata": {},
   "outputs": [
    {
     "name": "stdout",
     "output_type": "stream",
     "text": [
      "Password for jake changed.\n"
     ]
    },
    {
     "data": {
      "text/plain": [
       "True"
      ]
     },
     "execution_count": 7,
     "metadata": {},
     "output_type": "execute_result"
    }
   ],
   "source": [
    "#change password for jake\n",
    "\n",
    "bank.change_customer_password(\"jake\", \"jakeNewPassword\")"
   ]
  },
  {
   "cell_type": "code",
   "execution_count": 8,
   "id": "b317a783",
   "metadata": {},
   "outputs": [
    {
     "name": "stdout",
     "output_type": "stream",
     "text": [
      "Removed jake\n"
     ]
    },
    {
     "data": {
      "text/plain": [
       "True"
      ]
     },
     "execution_count": 8,
     "metadata": {},
     "output_type": "execute_result"
    }
   ],
   "source": [
    "#remove customer jake\n",
    "\n",
    "bank.remove_customer(\"jake\")"
   ]
  },
  {
   "cell_type": "code",
   "execution_count": 9,
   "id": "c83a98b4",
   "metadata": {},
   "outputs": [
    {
     "name": "stdout",
     "output_type": "stream",
     "text": [
      "Error: username or password was incorrect. Try again.\n"
     ]
    },
    {
     "data": {
      "text/plain": [
       "False"
      ]
     },
     "execution_count": 9,
     "metadata": {},
     "output_type": "execute_result"
    }
   ],
   "source": [
    "#login with wrong password\n",
    "\n",
    "bank.login(\"james\", \"jamesPasswordd\")"
   ]
  },
  {
   "cell_type": "code",
   "execution_count": 10,
   "id": "4bbae55b",
   "metadata": {},
   "outputs": [
    {
     "name": "stdout",
     "output_type": "stream",
     "text": [
      "Logged in as: james\n"
     ]
    },
    {
     "data": {
      "text/plain": [
       "True"
      ]
     },
     "execution_count": 10,
     "metadata": {},
     "output_type": "execute_result"
    }
   ],
   "source": [
    "#login with correct password\n",
    "\n",
    "bank.login(\"james\", \"jamesPassword\")"
   ]
  },
  {
   "cell_type": "code",
   "execution_count": 11,
   "id": "ecf24159",
   "metadata": {},
   "outputs": [
    {
     "data": {
      "text/plain": [
       "True"
      ]
     },
     "execution_count": 11,
     "metadata": {},
     "output_type": "execute_result"
    }
   ],
   "source": [
    "#Add accounts to logged in user\n",
    "\n",
    "bank.add_account_loggedIn(\"jamesKonto12\", 569)\n",
    "bank.add_account_loggedIn(\"jamesKonto13\", 0)"
   ]
  },
  {
   "cell_type": "code",
   "execution_count": 12,
   "id": "908c557f",
   "metadata": {},
   "outputs": [
    {
     "name": "stdout",
     "output_type": "stream",
     "text": [
      "Account: jamesKonto13 Balance: 0\n"
     ]
    }
   ],
   "source": [
    "#get specific account from logged in user\n",
    "\n",
    "print(bank.get_account_loggedIn(\"jamesKonto13\"))"
   ]
  },
  {
   "cell_type": "code",
   "execution_count": 13,
   "id": "3cb76f38",
   "metadata": {},
   "outputs": [
    {
     "name": "stdout",
     "output_type": "stream",
     "text": [
      "Account: jamesKonto Balance: -20\n",
      "Account: jamesKonto12 Balance: 569\n",
      "Account: jamesKonto13 Balance: 0\n"
     ]
    }
   ],
   "source": [
    "#get all accounts from current user\n",
    "\n",
    "accounts = bank.get_accounts_loggedIn()\n",
    "\n",
    "for account in accounts:\n",
    "    print(account)"
   ]
  },
  {
   "cell_type": "code",
   "execution_count": 14,
   "id": "60f61260",
   "metadata": {},
   "outputs": [
    {
     "name": "stdout",
     "output_type": "stream",
     "text": [
      "Deleted account jamesKonto13\n"
     ]
    },
    {
     "data": {
      "text/plain": [
       "True"
      ]
     },
     "execution_count": 14,
     "metadata": {},
     "output_type": "execute_result"
    }
   ],
   "source": [
    "#remove account from current user\n",
    "\n",
    "bank.remove_account_loggedIn(\"jamesKonto13\")"
   ]
  },
  {
   "cell_type": "code",
   "execution_count": 15,
   "id": "75786c09",
   "metadata": {
    "scrolled": true
   },
   "outputs": [
    {
     "name": "stdout",
     "output_type": "stream",
     "text": [
      "None\n"
     ]
    }
   ],
   "source": [
    "#if account doesn't exist, None is returned\n",
    "\n",
    "print(bank.get_account_loggedIn(\"jamesKonto13\"))"
   ]
  },
  {
   "cell_type": "code",
   "execution_count": 16,
   "id": "6270c895",
   "metadata": {
    "scrolled": true
   },
   "outputs": [
    {
     "name": "stdout",
     "output_type": "stream",
     "text": [
      "Added funds to: jamesKonto\n"
     ]
    },
    {
     "data": {
      "text/plain": [
       "True"
      ]
     },
     "execution_count": 16,
     "metadata": {},
     "output_type": "execute_result"
    }
   ],
   "source": [
    "#deposit to specific account\n",
    "\n",
    "bank.deposit_to_loggedIn(\"jamesKonto\", 120)"
   ]
  },
  {
   "cell_type": "code",
   "execution_count": 17,
   "id": "feb14f55",
   "metadata": {
    "scrolled": true
   },
   "outputs": [
    {
     "name": "stdout",
     "output_type": "stream",
     "text": [
      "Withdrew funds from: jamesKonto12\n"
     ]
    },
    {
     "data": {
      "text/plain": [
       "True"
      ]
     },
     "execution_count": 17,
     "metadata": {},
     "output_type": "execute_result"
    }
   ],
   "source": [
    "#withdraw from specific account\n",
    "\n",
    "bank.withdraw_to_loggedIn(\"jamesKonto12\", 169)"
   ]
  },
  {
   "cell_type": "code",
   "execution_count": 18,
   "id": "a836e282",
   "metadata": {
    "scrolled": true
   },
   "outputs": [
    {
     "name": "stdout",
     "output_type": "stream",
     "text": [
      "Account: jamesKonto Balance: 100\n",
      "Account: jamesKonto12 Balance: 400\n"
     ]
    }
   ],
   "source": [
    "accounts = bank.get_accounts_loggedIn()\n",
    "\n",
    "for account in accounts:\n",
    "    print(account)"
   ]
  },
  {
   "cell_type": "code",
   "execution_count": 19,
   "id": "59bae446",
   "metadata": {
    "scrolled": true
   },
   "outputs": [
    {
     "name": "stdout",
     "output_type": "stream",
     "text": [
      "Logged out\n"
     ]
    },
    {
     "data": {
      "text/plain": [
       "True"
      ]
     },
     "execution_count": 19,
     "metadata": {},
     "output_type": "execute_result"
    }
   ],
   "source": [
    "bank.logout()"
   ]
  },
  {
   "cell_type": "code",
   "execution_count": 20,
   "id": "42859d99",
   "metadata": {},
   "outputs": [],
   "source": [
    "bank.add_customer(\"hans\", \"hansPassword\")\n",
    "bank.get_customer(\"hans\").add_account(\"hansKonto\", 4569)\n",
    "bank.get_customer(\"hans\").add_account(\"hansKonto2\", 35)"
   ]
  },
  {
   "cell_type": "code",
   "execution_count": 21,
   "id": "0c13bec2",
   "metadata": {},
   "outputs": [
    {
     "name": "stdout",
     "output_type": "stream",
     "text": [
      "Username: niklas Password: niklasPassword\n",
      "Account: konto1 Balance: 321\n",
      "Account: konto2 Balance: 500\n",
      "Account: konto3 Balance: 261\n",
      "Username: james Password: jamesPassword\n",
      "Account: jamesKonto Balance: 100\n",
      "Account: jamesKonto12 Balance: 400\n",
      "Username: paul Password: paulPassword\n",
      "Account: paulKonto Balance: 29\n",
      "Account: paulkonto2 Balance: 1256\n",
      "Account: paulkonto3 Balance: 896\n",
      "Username: hans Password: hansPassword\n",
      "Account: hansKonto Balance: 4569\n",
      "Account: hansKonto2 Balance: 35\n"
     ]
    }
   ],
   "source": [
    "#get customers list and accounts through get_customers()\n",
    "\n",
    "customers_list = bank.get_customers()\n",
    "\n",
    "for customer in customers_list:\n",
    "    print(customer)\n",
    "    for account in customer.accounts:\n",
    "        print(account)"
   ]
  },
  {
   "cell_type": "code",
   "execution_count": 22,
   "id": "bff025cf",
   "metadata": {},
   "outputs": [
    {
     "name": "stdout",
     "output_type": "stream",
     "text": [
      "Output saved to output.txt\n"
     ]
    }
   ],
   "source": [
    "bank.save()"
   ]
  },
  {
   "cell_type": "code",
   "execution_count": null,
   "id": "820449fc",
   "metadata": {},
   "outputs": [],
   "source": []
  }
 ],
 "metadata": {
  "kernelspec": {
   "display_name": "Python [conda env:myenv]",
   "language": "python",
   "name": "conda-env-myenv-py"
  },
  "language_info": {
   "codemirror_mode": {
    "name": "ipython",
    "version": 3
   },
   "file_extension": ".py",
   "mimetype": "text/x-python",
   "name": "python",
   "nbconvert_exporter": "python",
   "pygments_lexer": "ipython3",
   "version": "3.9.15"
  }
 },
 "nbformat": 4,
 "nbformat_minor": 5
}
